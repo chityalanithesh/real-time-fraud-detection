{
 "cells": [
  {
   "cell_type": "markdown",
   "metadata": {},
   "source": [
    "# 🧠 Transaction Analysis Notebook\n",
    "\n",
    "This notebook is used to test the fraud detection logic on a sample dataset."
   ]
  },
  {
   "cell_type": "code",
   "execution_count": null,
   "metadata": {},
   "outputs": [],
   "source": [
    "# Sample data structure\n",
    "sample_transactions = [\n",
    "    {\"account_id\": \"12345\", \"amount\": 12000, \"location\": \"NY\", \"status\": \"normal\"},\n",
    "    {\"account_id\": \"67890\", \"amount\": 50000, \"location\": \"UK\", \"status\": \"suspicious\"}\n",
    "]\n",
    "\n",
    "for tx in sample_transactions:\n",
    "    if tx['amount'] > 10000:\n",
    "        print(f\"⚠️ Alert: High-value transaction detected for account {tx['account_id']}\")"
   ]
  }
 ],
 "metadata": {
  "kernelspec": {
   "display_name": "Python 3",
   "language": "python",
   "name": "python3"
  },
  "language_info": {
   "name": "python"
  }
 },
 "nbformat": 4,
 "nbformat_minor": 2
}
